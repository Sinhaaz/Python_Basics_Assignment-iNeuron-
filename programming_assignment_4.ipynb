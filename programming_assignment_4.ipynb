{
 "cells": [
  {
   "cell_type": "code",
   "execution_count": 2,
   "metadata": {},
   "outputs": [
    {
     "name": "stdout",
     "output_type": "stream",
     "text": [
      "Number : 5\n",
      "Factorial : 120\n"
     ]
    }
   ],
   "source": [
    "#1.\tWrite a Python Program to Find the Factorial of a Number?\n",
    "a=int(input(\"Enter a number :\"))\n",
    "f=1\n",
    "for i in range(1,a+1):\n",
    "    f=f*i\n",
    "print(\"Number :\",a)\n",
    "print(\"Factorial :\",f)"
   ]
  },
  {
   "cell_type": "code",
   "execution_count": 3,
   "metadata": {},
   "outputs": [
    {
     "name": "stdout",
     "output_type": "stream",
     "text": [
      "Number : 5\n",
      "5 X 1 = 5\n",
      "5 X 2 = 10\n",
      "5 X 3 = 15\n",
      "5 X 4 = 20\n",
      "5 X 5 = 25\n",
      "5 X 6 = 30\n",
      "5 X 7 = 35\n",
      "5 X 8 = 40\n",
      "5 X 9 = 45\n",
      "5 X 10 = 50\n"
     ]
    }
   ],
   "source": [
    "#2.\tWrite a Python Program to Display the multiplication Table?\n",
    "a=int(input(\"Enter the number :\"))\n",
    "print(\"Number :\",a)\n",
    "for i in range(1,11):\n",
    "    print(a,\"X\",i,\"=\",(a*i))"
   ]
  },
  {
   "cell_type": "code",
   "execution_count": 14,
   "metadata": {},
   "outputs": [
    {
     "name": "stdout",
     "output_type": "stream",
     "text": [
      "Going to display upto  6 th fibonacci term\n",
      "0\n",
      "1\n",
      "1\n",
      "2\n",
      "3\n",
      "5\n"
     ]
    }
   ],
   "source": [
    "#3.\tWrite a Python Program to Print the Fibonacci sequence?\n",
    "n=int(input(\"Enter the terminating point of the fibonacci sequence :\"))\n",
    "print(\"Going to display upto \",n,\"th fibonacci term\")\n",
    "a,b=0,1\n",
    "if(n==1) or n>1:\n",
    "    print(\"0\")\n",
    "if n==2 or n>2:\n",
    "    print(\"1\")\n",
    "if (n>2):\n",
    "    for i in range(3,n+1):\n",
    "        c=a+b\n",
    "        a=b\n",
    "        b=c\n",
    "        print(c)"
   ]
  },
  {
   "cell_type": "code",
   "execution_count": 5,
   "metadata": {},
   "outputs": [
    {
     "name": "stdout",
     "output_type": "stream",
     "text": [
      "length : 3\n",
      "3\n",
      "5\n",
      "1\n",
      "Ams : 153\n",
      "153 is an Amstrong number\n"
     ]
    }
   ],
   "source": [
    "#4.\tWrite a Python Program to Check Armstrong Number?\n",
    "import math as mt\n",
    "a=int(input(\"Enter a number :\"))\n",
    "dup=a\n",
    "c=len(str(a))\n",
    "ams=0\n",
    "print(\"length :\",c)\n",
    "while(dup!=0):\n",
    "    d=dup%10\n",
    "    print(d)\n",
    "    ams=ams+(d**c)\n",
    "    dup=dup//10#Floor division is required\n",
    "print(\"Ams :\",ams)\n",
    "if(ams==a):\n",
    "    print(a,\"is an Amstrong number\")\n",
    "else:\n",
    "    print(a,\"is not an Amstrong number\")"
   ]
  },
  {
   "cell_type": "code",
   "execution_count": 8,
   "metadata": {},
   "outputs": [
    {
     "name": "stdout",
     "output_type": "stream",
     "text": [
      "The amstrong nos between 1 and 371 are :\n",
      "1.0\n",
      "2.0\n",
      "3.0\n",
      "4.0\n",
      "5.0\n",
      "6.0\n",
      "7.0\n",
      "8.0\n",
      "9.0\n",
      "153.0\n",
      "370.0\n",
      "371.0\n"
     ]
    }
   ],
   "source": [
    "#5.\tWrite a Python Program to Find Armstrong Number in an Interval?\n",
    "import math as mt\n",
    "a=int(input(\"Enter the terminal point of the interval\"))\n",
    "print(\"The amstrong nos between 1 and\",a,\"are :\")\n",
    "for i in range(1,a+1):\n",
    "    dup=i\n",
    "    ams=0\n",
    "    l=len(str(i))\n",
    "    while(dup!=0):\n",
    "        d=dup%10\n",
    "        ams=ams+mt.pow(d,l)\n",
    "        dup=dup//10\n",
    "    if ams==i:\n",
    "        print(ams)\n"
   ]
  }
 ],
 "metadata": {
  "interpreter": {
   "hash": "81794d4967e6c3204c66dcd87b604927b115b27c00565d3d43f05ba2f3a2cb0d"
  },
  "kernelspec": {
   "display_name": "Python 3.9.7 64-bit",
   "language": "python",
   "name": "python3"
  },
  "language_info": {
   "codemirror_mode": {
    "name": "ipython",
    "version": 3
   },
   "file_extension": ".py",
   "mimetype": "text/x-python",
   "name": "python",
   "nbconvert_exporter": "python",
   "pygments_lexer": "ipython3",
   "version": "3.9.7"
  },
  "orig_nbformat": 4
 },
 "nbformat": 4,
 "nbformat_minor": 2
}
