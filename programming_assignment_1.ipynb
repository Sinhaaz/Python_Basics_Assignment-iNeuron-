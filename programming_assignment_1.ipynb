{
 "cells": [
  {
   "cell_type": "code",
   "execution_count": 1,
   "metadata": {},
   "outputs": [
    {
     "name": "stdout",
     "output_type": "stream",
     "text": [
      "Hello world\n"
     ]
    }
   ],
   "source": [
    "# Q1) Print Hello world\n",
    "print(\"Hello world\")"
   ]
  },
  {
   "cell_type": "code",
   "execution_count": 2,
   "metadata": {},
   "outputs": [
    {
     "name": "stdout",
     "output_type": "stream",
     "text": [
      "15  +  30  : 45\n",
      "15  /  30  : 0.5\n",
      "30  /  15  : 2.0\n"
     ]
    }
   ],
   "source": [
    "# Q2) Performs arithematical operations such as addition and division\n",
    "a=int(input(\"Enter 1st number :\"))\n",
    "b=int(input(\"Enter 2nd number :\"))\n",
    "print(a,\" + \",b,\" :\",(a+b))\n",
    "print(a,\" / \",b,\" :\",(a/b))\n",
    "print(b,\" / \",a,\" :\",(b/a))"
   ]
  },
  {
   "cell_type": "code",
   "execution_count": 3,
   "metadata": {},
   "outputs": [
    {
     "name": "stdout",
     "output_type": "stream",
     "text": [
      "Area : 10.0\n"
     ]
    }
   ],
   "source": [
    "# Q3) Find the area of the traingle\n",
    "# Using Formula 1 : 1/2*b*h\n",
    "b=int(input(\"Enter base :\"))\n",
    "h=int(input(\"Enter height :\"))\n",
    "print(\"Area :\",(b*h)/2)"
   ]
  },
  {
   "cell_type": "code",
   "execution_count": 7,
   "metadata": {},
   "outputs": [
    {
     "name": "stdout",
     "output_type": "stream",
     "text": [
      "Area : 6.0\n"
     ]
    }
   ],
   "source": [
    "# Using Formula 2 : Heron's Formula\n",
    "# Semi perimeter : s=(a+b+c)/2\n",
    "# Area = math.sqrt(s(s-a)(s-b)(s-c))\n",
    "import math as mt\n",
    "a=int(input(\"Enter the side 1 of the traingle :\"))\n",
    "b=int(input(\"Enter the side 2 of the traingle :\"))\n",
    "c=int(input(\"Enter the side 3 of the traingle :\"))\n",
    "s=(a+b+c)/2\n",
    "area=mt.sqrt(s*(s-a)*(s-b)*(s-c))\n",
    "print(\"Area :\",area)\n"
   ]
  },
  {
   "cell_type": "code",
   "execution_count": 9,
   "metadata": {},
   "outputs": [
    {
     "name": "stdout",
     "output_type": "stream",
     "text": [
      "Before swap : a = 5  and b= 10\n",
      "After swap : a = 10  and b= 5\n"
     ]
    }
   ],
   "source": [
    "# Q4) Swap two variables\n",
    "a=5\n",
    "b=10\n",
    "print(\"Before swap : a =\",a ,\" and b=\",b)\n",
    "temp =a\n",
    "a=b\n",
    "b= temp\n",
    "print(\"After swap : a =\",a ,\" and b=\",b)"
   ]
  },
  {
   "cell_type": "code",
   "execution_count": 14,
   "metadata": {},
   "outputs": [
    {
     "name": "stdout",
     "output_type": "stream",
     "text": [
      "6\n"
     ]
    }
   ],
   "source": [
    "# Q5) Generate a random number\n",
    "import random\n",
    "a=random.randint(1,10)\n",
    "print(a)"
   ]
  }
 ],
 "metadata": {
  "interpreter": {
   "hash": "81794d4967e6c3204c66dcd87b604927b115b27c00565d3d43f05ba2f3a2cb0d"
  },
  "kernelspec": {
   "display_name": "Python 3.9.7 64-bit",
   "language": "python",
   "name": "python3"
  },
  "language_info": {
   "codemirror_mode": {
    "name": "ipython",
    "version": 3
   },
   "file_extension": ".py",
   "mimetype": "text/x-python",
   "name": "python",
   "nbconvert_exporter": "python",
   "pygments_lexer": "ipython3",
   "version": "3.9.7"
  },
  "orig_nbformat": 4
 },
 "nbformat": 4,
 "nbformat_minor": 2
}
